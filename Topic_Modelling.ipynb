{
 "cells": [
  {
   "cell_type": "code",
   "execution_count": 3,
   "metadata": {},
   "outputs": [],
   "source": [
    "import spacy\n",
    "spacy.load('en')\n",
    "from spacy.lang.en import English\n",
    "parser = English()"
   ]
  },
  {
   "cell_type": "code",
   "execution_count": 4,
   "metadata": {
    "collapsed": true
   },
   "outputs": [],
   "source": [
    "def tokenize(text):\n",
    "    lda_tokens = []\n",
    "    tokens = parser(text)\n",
    "    for token in tokens:\n",
    "        if token.orth_.isspace():\n",
    "            continue\n",
    "        elif token.like_url:\n",
    "            lda_tokens.append('URL')\n",
    "        elif token.orth_.startswith('@'):\n",
    "            lda_tokens.append('SCREEN_NAME')\n",
    "        else:\n",
    "            lda_tokens.append(token.lower_)\n",
    "    return lda_tokens"
   ]
  },
  {
   "cell_type": "code",
   "execution_count": 5,
   "metadata": {},
   "outputs": [
    {
     "name": "stdout",
     "output_type": "stream",
     "text": [
      "[nltk_data] Downloading package wordnet to\n",
      "[nltk_data]     C:\\Users\\neelneelpurk\\AppData\\Roaming\\nltk_data...\n",
      "[nltk_data]   Unzipping corpora\\wordnet.zip.\n"
     ]
    }
   ],
   "source": [
    "import nltk\n",
    "#nltk.download('wordnet')\n",
    "from nltk.corpus import wordnet as wn"
   ]
  },
  {
   "cell_type": "code",
   "execution_count": 6,
   "metadata": {
    "collapsed": true
   },
   "outputs": [],
   "source": [
    "def get_lemma(word):\n",
    "    lemma = wn.morphy(word)\n",
    "    if lemma is None:\n",
    "        return word\n",
    "    else:\n",
    "        return lemma"
   ]
  },
  {
   "cell_type": "code",
   "execution_count": 7,
   "metadata": {
    "collapsed": true
   },
   "outputs": [],
   "source": [
    "from nltk.stem.wordnet import WordNetLemmatizer"
   ]
  },
  {
   "cell_type": "code",
   "execution_count": 8,
   "metadata": {
    "collapsed": true
   },
   "outputs": [],
   "source": [
    "def get_lemma2(word):\n",
    "    return WordNetLemmatizer().lemmatize(word)"
   ]
  },
  {
   "cell_type": "code",
   "execution_count": 9,
   "metadata": {},
   "outputs": [
    {
     "name": "stdout",
     "output_type": "stream",
     "text": [
      "[nltk_data] Downloading package stopwords to\n",
      "[nltk_data]     C:\\Users\\neelneelpurk\\AppData\\Roaming\\nltk_data...\n",
      "[nltk_data]   Unzipping corpora\\stopwords.zip.\n"
     ]
    }
   ],
   "source": [
    "#nltk.download('stopwords')\n",
    "en_stop = set(nltk.corpus.stopwords.words('english'))"
   ]
  },
  {
   "cell_type": "code",
   "execution_count": 10,
   "metadata": {
    "collapsed": true
   },
   "outputs": [],
   "source": [
    "def prepare_text_for_lda(text):\n",
    "    tokens = tokenize(text)\n",
    "    tokens = [token for token in tokens if len(token) > 4]\n",
    "    tokens = [token for token in tokens if token not in en_stop]\n",
    "    tokens = [get_lemma(token) for token in tokens]\n",
    "    return tokens"
   ]
  },
  {
   "cell_type": "code",
   "execution_count": 11,
   "metadata": {
    "collapsed": true
   },
   "outputs": [],
   "source": [
    "import random"
   ]
  },
  {
   "cell_type": "code",
   "execution_count": 16,
   "metadata": {
    "collapsed": true
   },
   "outputs": [],
   "source": [
    "import pandas as pd"
   ]
  },
  {
   "cell_type": "code",
   "execution_count": 17,
   "metadata": {
    "collapsed": true
   },
   "outputs": [],
   "source": [
    "reviews_col = pd.read_csv(\"Dataset/ExistingHotels_CustomerVisitsdata-1554810038262.csv\", sep=',', usecols=['reviewtext'], squeeze=True)"
   ]
  },
  {
   "cell_type": "code",
   "execution_count": 21,
   "metadata": {},
   "outputs": [
    {
     "data": {
      "text/plain": [
       "7504"
      ]
     },
     "execution_count": 21,
     "metadata": {},
     "output_type": "execute_result"
    }
   ],
   "source": [
    "len(reviews_col)"
   ]
  },
  {
   "cell_type": "code",
   "execution_count": 22,
   "metadata": {},
   "outputs": [
    {
     "name": "stdout",
     "output_type": "stream",
     "text": [
      "['great', 'family', 'hotel', 'choose', 'hotel', 'rate', 'family', 'hotel', 'pick', 'SCREEN_NAME', 'although', 'perfect', 'positive', 'outweigh', 'negative', 'negative', 'first', 'stay', 'family', 'suite', 'dresser', 'place', 'clothes', 'closet', 'clothes', 'stay', 'suitcase', 'second', 'fight', 'locate', 'finally', 'shower', 'bathroom', 'difficult', 'toddler', 'clean', 'since', 'bath', 'shower', 'deal', 'negative', 'suggestion', 'improvement', 'great', 'location', 'never', 'exploratorium', 'direction', 'northwest', 'think', 'fisherman', 'wharf', 'direction', 'great', 'playground', 'yard', 'hotel', 'people', 'friendly', 'farther', 'yard', 'hotel', 'everywhere', 'purchase', 'citypass', 'online', 'making', 'bus', 'trolley', 'cable', 'incredible', 'wonderful', 'place', 'enjoy', 'visit', 'future']\n",
      "['supercool', 'hotel', 'phoenix', 'place', 'everything', 'spacious', 'rooms', 'situate', 'small', 'casitas', 'rooms', 'perfect', 'clean', 'offer', 'condition', 'video', 'game', 'bathroom', 'fantastic', 'volleyball', 'artificial', 'river', 'along', 'sensational', 'water', 'slide', 'waterfall', 'perfect', 'family', 'thing', 'complain', 'close', 'service', 'hilton', 'average']\n",
      "['great', 'excellent', 'amenities', 'slight', 'problem', 'reservation', 'call', 'march', 'arrive', 'reservation', 'change', 'december', 'list', 'anywhere', 'file', 'reservation', 'agent', 'pleasant', 'could', 'change', 'reservation', 'would', 'check', 'earlier', 'plan', 'since', 'reward', 'upset', 'night', 'sedona', 'since', 'going', 'anyway)my', 'check', 'monday', 'afternoon', 'ask', 'upgrade', 'casita', 'ask', 'check', 'change', 'place', 'magic', 'cancel', 'sedona', 'reservation', 'arrive', 'evening', 'impress', 'casita', 'ground', 'floor', 'kitchen', 'din', 'living', 'upstairs', 'bedroom', 'private', 'balcony', 'bedroom', 'understand', 'previous', 'poster', 'nothing', 'within', 'walking', 'distance', 'chilada', 'strip', 'shopping', 'center', 'across', 'street', 'chinese', 'carryout', 'sport', 'strore', 'liquor', 'store', 'across', 'street', 'supermarket', 'enjoy', 'river', 'tube', 'minature', 'end', 'buying', 'resort', 'package', 'although', 'would', 'since', 'diamond', 'level', 'sending', 'receive', 'large', 'fax', 'economical', 'restaurant', 'complaint', 'post', 'always', 'wonder', 'resort', 'people', 'negative', 'positive', 'found', 'balance', 'report', 'telling']\n",
      "['h么tel', 'ext茅rieure']\n",
      "['individual', 'treatment']\n",
      "['stay', 'final', 'refurbishment', 'things', 'pretty', 'topsy', 'turvey', 'staff', 'incredibly', 'helpful', 'nothing', 'trouble', 'mention', 'smelt', 'spend', 'nicaraguan', 'jungle', 'however', 'hugely', 'expensive', 'cleaning', 'jungle', 'bake', 'rather', 'clean', 'given', 'upgrade', 'junior', 'suite', 'look', 'beautiful', 'sumptuous', 'however', 'whole', 'thing', 'rather', 'spoil', 'noise', 'double', 'glaze', 'look', 'found', 'location', 'guess', 'british', 'bus', 'everywhere', 'hollywood', 'bus', 'hotel', 'maybe', 'using', 'wrong', 'bus', 'restaurant', 'without', 'first', 'class']\n",
      "['excellent', 'except', 'construction', 'going', 'stay', 'century', 'plaza', 'night', 'penthouse', 'level', 'building', 'view', 'little', 'surprise', 'easily', 'cheap', 'travelocity', 'assume', 'quiet', 'found', 'reason', 'morning', 'building', 'alive', 'around', 'mention', 'booking', 'hotel', 'reception', 'check', 'complain', 'although', 'mention', 'checkout', 'early', 'morning', 'anyway', 'would', 'location', 'hotel', 'fairy', 'consider', 'basically', 'financial', 'office', 'tower', 'westfield', 'shopping', 'centre', 'across', 'street', 'ideal', 'macys', 'bloomingdales', 'amongst', 'others', 'minute', 'rodeo', 'drive', 'seem', 'enough', 'company', 'leaf', 'around', 'corner', 'santa', 'monica', 'take', 'dependant', 'traffic', 'person', 'absolute', 'bargain', 'details', 'location', 'concierge', 'found', 'helpful', 'need', 'could', 'easily', 'public', 'transport', 'overall', 'enjoyable', 'going', 'would', 'probably', 'somewhere', 'compare', 'location']\n",
      "['staff', 'friendly', 'helpful', 'cleanliness', 'awesomeamenities', 'great', 'pool', 'family', 'orient', 'restaraunts', 'great', 'shopping', 'across', 'street', 'movie', 'theater', 'complaint', 'parking', 'parking', 'garage', 'state', 'price', '20.00', 'little', 'challenge', 'stuff', 'small', 'valet', 'parking', 'hotel', '30.00', 'include', 'location', 'close', 'hollywood', 'beverly', 'hill', 'site', 'great']\n",
      "['better', 'option', 'better', 'bonaventure', 'rooms', 'redo', 'catch', 'feature', 'panel', 'limited', 'benefit', 'platinum', 'member', 'concierge', 'level', 'breakfast', 'welcome', 'bonus', 'point', 'exchange', 'welcome', 'though', 'suite', 'upgrade', 'offer', 'check', 'valet', 'buck', 'include', 'priviledges', 'staff', 'location', 'massive', 'construction', 'accross', 'street', 'noise', 'system', 'fitness', 'center', 'beverly', 'hill', 'price', 'internet', 'work', 'around', 'channels', 'sport', 'network']\n",
      "['complaint', 'work', 'tower', 'across', 'street', 'hotel', 'years', 'eat', 'meeting', 'company', 'party', 'recently', 'first', 'opportunity', 'attending', 'event', 'building', 'hotel', 'new', 'curve', 'building', 'throw', 'different', 'charm', 'ample', 'upgrade', 'westin', 'always', 'comfortable', 'bathroom', 'lack', 'rooms', 'would', 'recommend', 'people', 'stay', 'bathroom', 'whoop', 'quite', 'construction', 'going', 'entertainment', 'center', 'across', 'street', 'transform', 'enough', 'silent', 'either', 'valet', 'impressively', 'prompt', 'obnoxiously', 'either', 'service', 'decent', 'nothing', 'spectacular', 'breakfast', 'breeze', 'overprice', 'typical', 'hotel', 'dining', 'variety', 'affordability', 'across', 'street', 'century', 'plaza', 'court', 'enjoy', 'favorite', 'starwood', 'prefer', 'guest', 'online', 'charge', 'request', 'check', 'relax', 'watch', 'movie']\n",
      "['costs', 'never', 'return', 'hotel', 'reservation', 'online', 'extra', 'breakfast', 'suppose', 'breakfast', 'restaurant', 'attach', 'breakfast', 'anywhere', 'another', 'it!!also', 'arrive', 'request', 'fully', 'book', 'either', 'spend', 'front', 'asking', 'everything', 'different', 'reservation', 'specialist', 'spoke', 'front', 'staff', 'unhelpful', 'finally', 'rooms', 'suppose', 'adjoin', 'teenages', 'around', 'corner', 'realize', 'receive', 'breakfast', 'voucher', 'call', 'front', 'bring', 'email', 'verification', 'argue', 'standard', 'though', 'confirmation', 'show', 'would', 'manager', 'course', 'meeting', 'evening!!i', 'ask', 'holiday', 'talk', 'someone', 'customer', 'center', 'helpful', 'people', 'deal', 'basically', 'manager', 'problem', 'realize', 'rooms', 'terms', 'length', 'ask', 'move', 'move', 'another', 'smell', 'marlboro', 'live', 'years', 'manager', 'insist', 'smoking', 'right', 'end', 'move', 'third', 'frustrate', 'exhaust', 'hotel', 'toilet', 'crook', 'awful', 'think', 'motel', 'would', 'better', 'leave', 'light', 'restaurant', 'stink']\n",
      "['pleasantly', 'surprise', 'faithful', 'higher', 'chain', 'marriott', 'hyatt', 'westin', 'place', 'price', 'reasonable', 'review', 'convince', 'chance', 'little', 'desperation', 'every', 'hotel', 'either', 'night', 'luxurious', 'marriott', 'courtyard', 'standard', 'place', 'first', 'location', 'outstanding', 'minutes', 'burbank', 'airport', 'hollywood', '24-hour', 'ralph', 'grocery', 'store', 'across', 'street', 'phenomenal', 'jerry', 'hours', 'block', 'never', 'necessity', 'lobby', 'definitely', 'antiquate', 'touch', 'actual', 'rooms', 'doorknob', 'miss', 'recent', 'renovation', 'really', 'nothing', 'complain', 'rooms', 'spacious', 'extremely', 'clean', 'product', 'higher', 'works', 'sufficiant', 'drawer', 'closet', 'space', 'facing', 'small', 'balcony', 'little', 'worry', 'noise', 'early', 'morning', 'swimmer', 'never', 'hear', 'thing', 'exercise', 'extremely', 'basic', 'setup', 'treadmill', 'weight', 'machine', 'little', 'finally', 'everyone', 'deal', 'front', 'towel', 'since', 'extremely', 'great', 'great', 'price']\n",
      "['closet', 'service', 'market', 'street', 'hotel', 'retail', 'store', 'layout', 'little', 'hotel', 'starting', 'floor', 'restaurant', 'offer', 'limited', 'hours', 'otherwise', 'space', 'elevator', 'small', 'expect', 'francisco', 'price', 'expect', 'closet', 'hooks', 'alcove', 'nothing', 'closet', 'service', 'existant', 'request', 'towel', 'result', 'towel', 'result', 'unpleasant', 'attitude', 'front', 'staff', 'travel', 'great', 'spend', 'night', 'hotel', 'worst']\n"
     ]
    },
    {
     "name": "stdout",
     "output_type": "stream",
     "text": [
      "['small', 'double', 'stay', 'beresford', 'night', 'coach', 'expect', 'small', 'smaller', 'acceptable', 'bedside', 'cabinet', 'suppose', 'double', 'phone', 'connect', 'opposite', 'clock', 'alarm', 'arrive', 'ask', 'heating', 'whole', 'hotel', 'heating', 'following', 'evening', 'only.l', 'coffee', 'making', 'facility', 'either', 'receptionist', 'rather', 'abrupt', 'unfriendly', 'point', 'hotel', 'clean', 'serve', 'breakfast', 'internet', 'connection', 'handy', 'union', 'square']\n",
      "['fantastic', 'reading', 'review', 'priceline', 'customer', 'extremely', 'apprehensivebut', 'lovely', 'noise', 'minimal', 'could', 'hardly', 'planes!the', 'complaint', 'internet!!the', 'staff', 'helpful', 'really', 'enjoy']\n",
      "['nothing', 'special', 'serve', 'purpose', 'hyatt', 'location', 'shop', 'restaurant', 'union', 'square', 'problem', 'valet', 'parking', 'expensive', 'parking', 'garage', 'directly', 'across', 'street', 'pretty', 'resonably', 'rooms', 'nothing', 'special', 'seem', 'quite', 'small', 'expect', 'comfy', 'furniture', 'shabby', 'barely', 'slider', 'annoy', 'safety', 'reason', 'absolute', 'hotel', 'restaurant', 'floor', 'degree', 'francisco', 'floor', 'ceiling', 'windows', 'boyfriend', 'receive', 'complementry', 'buffet', 'breakfast', 'booking', 'usually', 'person', 'buffet', 'excellent', 'pretty', 'selection', 'everything', 'fresh', 'french', 'toast', 'tat', 'experience', 'better', 'hotel', 'pretty', 'value', 'francisco']\n",
      "['great', 'location', 'review', 'honestly', 'think', 'pretty', 'decent', 'grand', 'hyatt', 'location', 'walking', 'distance', 'shop', 'public', 'transport', 'sear', 'serve', 'pancake', 'round', 'corner', 'fabulous', 'union', 'square', 'really', 'pretty', 'bathroom', 'almost', 'instant', 'water', 'amenities', 'problem', 'concierge', 'friendly', 'people']\n",
      "['another', 'grand', 'stay', 'getaway', 'grand', 'hyatt', 'favorite', 'explore', 'location', 'heart', 'great', 'union', 'square', 'shopping', 'steps', 'cable', 'turnaround', 'chinatown', 'theatre', 'great', 'restaurant', 'upgrade', 'enjoy', 'bottle', 'watching', 'light', 'course', 'noise', 'smack', 'middle', 'extremely', 'comfortable', 'hotel', 'provide', 'ammenities', 'bathroom', 'large', 'still', 'adequate', 'favorite', 'place', 'minute', 'getaway']\n",
      "['rooms', 'amaze', 'request', 'floor', 'looking', 'water', 'give', 'cruise', 'effect', 'rooms', 'small', 'comfortable', 'kimpton', 'hotel', 'host', 'serve', 'complimentary']\n",
      "['hotel', 'hotel', 'nothing', 'would', 'expect', 'hyatt', 'truly', 'overprice', 'location', 'parking', 'unbelievable', 'regardless', '11:59', 'night', 'previous', 'morning', 'impress']\n",
      "['great', 'hotel', 'great', 'location', 'boyfriend', 'stay', 'mosser', 'hotel', 'night', 'book', 'share', 'bathroom', 'slightly', 'worry', 'bathroom', 'beautiful', 'absolutely', 'spotless', 'clean', 'comfortable', 'convenient', 'hotel', 'close', 'walking', 'distance', 'cable', 'station', 'location', 'convenient', 'visiting', 'major', 'attraction', 'serve', 'coffee', 'delicious', 'muffin', 'lobby', 'breakfast', 'parking', 'vallet', 'always', 'ready', 'within', 'minutes', 'request', 'great', 'hotel', 'people']\n",
      "['quality', 'depend', 'rating', 'things', 'parking', 'save', 'buck', 'great', 'helpful', 'staff', 'location', 'close', 'quiet', 'walking', 'distance', 'cable', 'line', 'eatery', 'choose', 'single', 'queen', 'shame', 'small', 'truly', 'lugagge', 'floor', 'means', 'floor', 'walking', 'beware', 'quality', 'rooms', 'spacier', 'pricey', 'price', 'range', 'extremely', 'cheap', 'extremely', 'expensive', 'watch', 'advance', 'recomendation', 'queen']\n",
      "['great', 'value', 'clean', 'stay', 'family', 'suite', 'spacious', 'refrig', 'micro', 'great', 'continental', 'breakfast', 'enough', 'us.(donuts', 'crossants', 'danish', 'muffin', 'banana', 'apple', 'parking', 'tight', 'doable', 'floor', 'found', 'quiet', 'owner', 'friendly', 'stay', 'hotel', 'difference', 'beautiful', 'lobby', 'lobby', 'rooms', 'expensive', 'hotel', 'outdated', 'rooms', 'found', 'clean', 'thing', 'wrong', 'hotel', 'location', 'minute', 'fisherman', 'wharf', 'would', 'especially', 'traveling', 'family', 'directly', 'pricing', 'discount']\n",
      "['exceed', 'expectation', 'stay', '12/4/05', 'base', 'tripadvisor', 'local', 'need', 'reasonably', 'price', 'clean', 'place', 'parking', 'attraction', 'motor', 'motel', 'locate', 'right', 'within', 'walking', 'distance', 'restaurant', 'business', 'russian', 'neighborhood', 'management', 'rooms', 'fancy', 'clean', 'basic', 'amenities', 'need', 'slightly', 'wall', 'light', 'sleeper', 'would', 'bring', 'plug', 'otherwise', 'place', 'would', 'definitely', 'recommend', 'place', 'others']\n",
      "['wonderful', 'hotel', 'husband', 'stay', 'motor', 'night', 'owner', 'helpful', 'knowledgeable', 'gracious', 'detail', 'others', 'unsafe', 'area', 'tourist', 'could', 'innocently', 'venture', 'explore', 'comfy', 'shoes', 'prepare', 'workout', 'climbing', 'hills!the', 'hotel', 'hide', 'city-', 'highly', 'recommend']\n",
      "['switch', 'suppose', 'great', 'getaway', 'weekend', 'turn', 'disaster', 'stay', 'ramada', 'limited', 'hotel', 'aware', 'budget', 'accommodation', 'rooms', 'basic', 'bedding', 'could', 'total', 'makeover', 'location', 'close', 'public', 'transit', 'nightlife', 'nearby', 'never', 'experience', 'major', 'problem', 'previous', 'visit', '鈥渓imited鈥?style', 'budget', 'expedia', 'special', 'tax鈥檚', 'decide', 'however', 'expedia', 'fail', 'notify', 'hotel', 'impend', 'arrival', 'management', 'standard', 'rooms', 'available', 'hotel', 'would', 'honor', 'expedia', 'standard', 'available', 'offer', 'suite', 'costing', 'tax鈥檚', 'night', 'three', 'times', 'seeing', 'infuriate', 'become', 'hotel', 'offer', 'tax鈥檚', 'night', 'suite', 'expedia', 'agent', 'suite', 'additional', 'would', 'cover', 'provide', 'confirmation', 'number', 'transaction', 'however', 'checkout', 'expedia', 'agent', 'try', 'responsible', 'suite', 'vacation', 'conduct', 'phone', 'call', 'hotel', 'management', 'resolve', 'issue', 'found', 'expedia', 'customer', 'service', 'agent', 'unhelpful', 'wasn鈥檛', 'base', 'overseas', 'english', 'second', 'language', 'reason', 'could', 'understand', 'gravity', 'situation', 'persistence', 'diligent', 'hotel', 'manager', 'bobby', 'expedia', 'responsibility', 'theirerror', 'ahead', 'certain', 'actually', 'available']\n",
      "['great', 'western', 'hotel', 'staff', 'outstanding', 'hlepful', 'friendly', 'hotel', 'centrally', 'locate', 'everything', 'hotel', 'older', 'noisy', 'clean', 'would', 'expcet', 'money']\n",
      "['great', 'hotel', 'love', 'great', 'place', 'sister', 'recommend', 'recommend', 'friend', 'stay', 'centrally', 'locate', 'great', 'great', 'people', 'cheese', 'social', 'lobby']\n",
      "['around', 'stay', 'savoy', 'night', 'please', 'choice', 'rooms', 'small', 'standard', 'anyway', 'rooms', 'hallway', 'lobby', 'extremely', 'clean', 'odor', 'bathroom', 'adequate', 'plenty', 'towel', 'toiletry', 'although', 'control', 'shower', 'quirky', 'state', 'others', 'linen', 'notch', 'sleep', 'bother', 'street', 'noise', 'floor', 'staff', 'friendly', 'although', 'particularly', 'knowledgable', 'question', 'current', 'theatre', 'offering', 'blank', 'stare', 'complementary', 'cheese', 'afternoon', 'fantastic', 'vegan', 'restaurant', 'millenium', 'sharing', 'lobby', 'terrific', 'bedtime', 'dessert', 'beverage', 'savoy', 'centrally', 'locate', 'block', 'union', 'square', 'however', 'border', 'tenderloin', 'found', 'geary', 'towards', 'union', 'square', 'heading', 'point', 'choice', 'location', 'comfort', 'unbeatable', 'price', 'stay', 'night']\n",
      "['happy', 'savoy', 'hoteli', 'visit', 'francisco', 'first', 'savoy', 'hotel', 'great', 'employee', 'front', 'helpful', 'ask', 'direction', 'location', 'terrific', 'savoy', 'short', 'cable', 'restaurant', 'francisco', 'incredible', 'visit', 'great', 'memory', 'stay', 'savoy']\n",
      "['alright', 'guess', 'expect', 'something', 'little', 'nice', 'luxury', 'hotel', 'clean', 'street', 'sleep', 'right', 'geary', 'street', 'siren', 'could', 'hear', 'night', 'water', 'pipe', 'noisy', 'neighbor', 'hotel', 'walking', 'distance', 'union', 'square', 'close', 'great', 'gallery', 'parking', 'really', 'expensive', 'include', 'book', 'probably', 'would', 'unless', 'really']\n",
      "['great', 'experience', 'lobby', 'clock', 'francis']\n"
     ]
    },
    {
     "name": "stdout",
     "output_type": "stream",
     "text": [
      "['average', 'hotel', 'suit', 'budget', 'traveler', 'funny', 'conditioner']\n",
      "['capital', 'first', 'francisco', 'great', 'accom', 'rooms', 'ready', 'arrive', 'given', 'rooms', 'dirty', 'break', 'window', 'bathroom', 'ground', 'floor', 'stuff', 'towel', 'window', 'privicy', 'know', 'around', 'would', 'move', 'place', 'take']\n",
      "['welcome', 'great', 'hotel', 'friendly', 'staff', 'central', 'location', 'family', 'spend', 'night', 'moment', 'check', 'wonderful', 'front', 'staff', 'concierge', 'helpful', 'rm308', 'deluxe', 'locate', 'elli', 'view', 'cable', 'hotel', 'intself', 'extensively', 'renovate', 'modern', 'inside', 'charm', 'facade', 'clean', 'super', 'comfy', 'internet', 'night', 'usd$127', 'great', 'value', 'consider', 'union', 'square', 'surround', 'great', 'place', 'shopping', 'galore', 'cable', 'right', 'outside', 'crissy', 'field', 'fisherman', 'wharf', 'noise', 'outside', 'little', 'distract', 'heart', 'world', 'busy', 'city', '.......', 'relax', 'holiday', 'enjoy', 'sound', 'great', 'introduction', 'first', 'family', 'overseas', 'would', 'defintely']\n",
      "['great', 'location', 'price', 'staff', 'return', 'union', 'square', 'hotel', 'night', 'fourth', 'weekend', 'expect', 'given', 'review', 'budget', 'pleasantly', 'surprise', 'receive', 'courteous', 'friendly', 'staff', 'excellent', 'francisco', 'location', 'simple', 'comfortable', 'expect', 'carlton', 'character', 'cookie', 'cutter', 'hotel', 'something', 'history', 'charm', 'would', 'definitely', 'union', 'square', 'hotel', 'restaurant', 'nearby', 'need', 'conditioning', 'francisco', 'wireless', 'internet', 'throughout', 'hotel', 'make', 'connect', 'hotel', 'noisy', 'highly', 'recommend']\n",
      "['lovely', 'hotel', 'great', 'location', 'sitting']\n",
      "['lovely', 'hotel', 'awesome', 'location', '-great', 'location', 'stay', 'size', 'room730', 'inside', 'spacious', 'quiet', 'recommenedlocation', 'steps', 'powell', 'cable', 'turnaround', 'right', 'around', 'corner', 'beautiful', 'union', 'square', 'shopping', 'right', 'think', 'betterrecommend', 'inside', 'quiet', 'norcini', 'kutelo', 'restaurant', 'right', 'lobby', 'convenient', 'service', 'front', 'extremely', 'helpful', 'call', 'marks', 'friendliness', 'making', 'always', 'welcome', 'hotel', 'family']\n",
      "['place', 'medium', 'stays', 'hotel', 'everything', 'civic', 'center', 'within', 'walking', 'distance', 'infront', 'close', 'mission', 'district', 'around', 'corner', 'shop', 'restaurant', 'around', 'gough', 'street', 'clean', 'handsome', 'furnish', 'rooms', 'friendly', 'helpful', 'stuff', 'wekly', 'rates', 'great', 'service', 'coffee', 'lobby', 'desk', 'help', 'defintly', 'great', 'place']\n",
      "['reasonable', 'cancellation', 'shameful', 'orbitz', 'price', 'ambiance', 'lack', 'hotel', 'book', 'hotel', 'really', 'remodel', 'hitchcock', 'vertigo', 'film', 'breakfast', 'close', 'union', 'square', 'close', 'would', 'infer', 'parking', '28.50', 'amenities', 'clean', 'adventurous', 'cigarette', 'smoker', 'crawl', 'window', 'escape', 'avoid', 'cleaning', 'charge', 'front', 'elevator', 'small', 'works', 'older', 'hotel', 'funky', 'sadly', 'rainbow', 'vertigo', 'close']\n",
      "['stays', 'grosvenor', 'enough', 'stays', 'grosvenor', 'recent', 'sept.', 'vividly', 'recall', 'unable', 'stand', 'straight', 'waking', 'night', 'sleep', 'beware', 'quality', 'rooms', 'large', 'probably', 'family', 'kitchen', 'seem', 'adequate', 'closet', 'spacious', 'anything', 'average', 'hotel', 'unfortunately', 'evening', 'without', 'comfortable']\n",
      "['stylish', 'value', 'location', 'first', 'extend', 'location', 'excellent', 'sightseeing', 'around', 'beverly', 'hill', 'hollywood', 'downtown', 'helpful', 'stephen', 'concierge', 'getting', 'around', 'without', 'going', 'freeway', 'sightseeing', 'example', 'recommend', 'kodak', 'theatre', 'worthwhile', 'amongst', 'tackiness', 'hollywod', 'boulevard', 'working', 'still', 'go).the', 'spacious', 'clean', 'original', 'smart', 'decoration', 'expedia', 'decide', 'upgrade', 'north', 'towards', 'beverly', 'hill', 'itwas', 'worth', 'quite', 'large', 'balcony', 'pretty', 'green', 'la!).the', 'bathroom', 'spacious', 'enough', 'adult', 'teenager', 'separate', 'dressing', 'table', 'mirror', 'coffee', 'machine', 'locate', 'everyone', 'place', 'things', 'bathroom', 'probably', 'could', 'makeover', 'hairline', 'crack', 'basin', 'toilet', 'temperamental', 'otherwise', 'everything', 'heat', 'shaving', 'mirror', 'bedding', 'divine', 'tempur', 'matresses', 'sensibly', 'hotel', 'ditch', 'service', 'plenty', 'space', 'small', 'fridge', 'drink', 'snack', 'staff', 'friendly', 'professional', 'front', 'restaurant', 'housekeeping', 'ask', 'quickly', 'replace', 'item', 'miss', 'decaf', 'coffee', 'dinner', 'twice', 'restaurant', 'small', 'cover', 'taste', 'found', 'reasonable', 'price', 'parking', 'issue', 'around', 'beverly', 'hill', 'parking', 'street', 'allow', 'valet', 'charge', 'unavoidable', 'service', 'convenient', 'exterior', 'almost', 'retro', 'inside', 'smart', 'intimate', 'welcome']\n",
      "['something(s', 'wrong', 'wonder', 'people', 'place', 'hotel', 'staff', 'really', 'friendly', 'but:-', 'decoration', 'suck', 'seem', 'orlando', 'hotel', 'rooms', 'smell', 'old.-', 'restaurant', 'emploees', 'dirty', 'uniform', 'quick', 'carefull', 'place', 'allow', 'anyone', 'notice', 'check', 'lamp', 'youself', 'equipment', 'cracking', 'weight', 'miss', 'really', 'seem', 'strange', 'hotel', 'star', 'review', 'reason', 'book', 'disapointment', 'decide', 'write']\n",
      "['great', 'location', 'date', 'stay', 'cheap', 'rooms', 'ground', 'floor', 'parking', 'expectation', 'accordingly', 'large', 'date', 'decor', 'water', 'shower', 'place', 'fade', 'glamour', 'hadn麓t', 'quite', 'times', 'clear', 'newport', 'family', 'friendly', 'location', 'excellent', 'right', 'beach', 'aventura', 'large', 'close', 'action', 'miami', 'beach', 'lincoln', 'drive', 'etc).the', 'always', 'activity', 'adult', 'alike', 'lobby', 'found', 'staff', 'helpful', 'efficient', 'overall', 'place', 'doubt', 'didn麓t', 'live', 'review', 'hotel']\n",
      "['nearly', 'electrocute', 'book', 'reservation', 'palmas', 'website', 'state', 'clarion', 'collection', 'palmas', 'hotel', 'suite', 'offer', 'newly', 'renovate', 'rooms', 'include', 'guestroom', 'suite', 'mislead', 'husband', 'stay', 'palmas', '8/25/06', '8/29/06', 'night', 'arrive', 'check', 'following', 'wall', 'hole', 'hardware', 'something', 'hanging', 'obviously', 'paint', 'around2)the', 'bathroom', 'dent', 'frame', 'could', 'close', 'properly', 'noise', 'opening', 'closing', '3)the', 'shower', 'pressure', 'could', 'barely', 'shampoo', 'faucet', 'powerful', 'splash', 'everytime', 'it.4)the', 'conditioner', 'filthy', 'vent', 'break', 'apart', 'husband', 'almost', 'eletrocuted', 'using', 'miss', 'button', 'short', 'pressing', 'shirt.6)the', 'outlet', 'hairdryer', 'plug', 'loose', 'bottom', 'sometimes', 'scary', 'since', 'could', 'wire', 'strip', 'screw', 'outlet', 'behind', 'night', 'table', 'loose.7)we', 'smoking', 'blanket', 'cigarette', 'burns.8)when', 'housekeeper', 'shampoo', 'using', 'leave', 'anymore', '9)there', 'machine', 'locate', 'corner', 'hotel', 'first', 'floor', 'travel', 'floor', 'unless', 'first', 'floor', 'machine', 'disappoint', 'mislead', 'believing', 'hotel', 'rooms', 'already', 'renovate', 'process', 'renovate', 'clearly', 'would', 'suggest', 'change', 'reflect', 'hotel', 'still', 'renovation', 'might', 'problem', 'suggest', 'electrical', 'outlet', 'check', 'provide', 'irons', 'dryer', 'guest', 'avoid', 'accident', 'palmas', 'would', 'recommend', 'information', 'future', 'prospective', 'guest', 'hotel', 'thumb', 'inspector', 'health', 'department', 'involve']\n"
     ]
    },
    {
     "name": "stdout",
     "output_type": "stream",
     "text": [
      "['fabulous', 'location', 'stay', 'bourbon', 'orleans', 'location', 'close', 'everything', 'french', 'quarter', 'lobby', 'beautiful', 'building', 'look', 'great', 'outside', 'check', 'upgrade', 'townhouse', 'suite', 'balcony', 'overlook', 'bourbon', 'street', 'shabby', 'large', 'comfortable', 'small', 'table', 'raggedy', 'sofabed', 'several', 'chair', 'double', 'upstairs', 'balcony', 'great', 'could', 'watch', 'commotion', 'going', 'comfort', 'balcony', 'sip', 'mango', 'brewski', 'earplug', 'sleep', 'still', 'pounding', 'music', 'return', 'could', 'really', 'clean', 'unless', 'upstairs', 'towel', 'deliver', 'dryer', 'promptly', 'deliver', 'remote', 'control', 'might', 'avoid', 'going', 'barefoot', 'carpet', 'clean', 'really', 'enough', 'chaise', 'lounge', 'always', 'prime', 'time).there', 'couple', 'bachelor', 'party', 'going', 'sorry', 'housekeeping', 'staff', 'would']\n",
      "['enjoy', 'southern', 'hostility', 'leaving', 'freshener', 'smoking']\n",
      "['night', 'enjoy', 'maison', 'dupuy', 'december', 'wedding', 'party', 'enjoy', 'clean', 'comfortable', 'overlook', 'lovely', 'courtyard', 'hotel', 'historic', 'french', 'quarter', 'quite', 'expect', 'quirkiness', 'rooms', 'minimal', 'maison', 'dupuy', 'criticism', 'minute', 'check', 'parking', 'night', 'worth', 'parking', 'difficult', 'french', 'quarter', 'staff', 'friendly', 'particularly', 'parking', 'attendant', 'french', 'quarter', 'setting', 'lovely', 'world', 'class', 'shopping', 'dining', 'within', 'block', 'french', 'quarter', 'great', 'people', 'watching', 'stroll', 'wedding', 'reception', 'attend', 'cater', 'hotel', 'restaurant', 'service', 'outstanding', 'sorry', 'night', 'enjoy', 'orleans', 'wonderful', 'visit', 'maison', 'dupuy', 'pleasant', 'experience']\n",
      "['great', 'hotel', 'friendly', 'showreview(741617']\n",
      "['great', 'location']\n",
      "['smile', 'walk', 'hotel', 'greet', 'pretty', 'smile', 'front', 'check', 'start', 'change', 'rooms', 'times', 'house', 'keeper', 'speek', 'english', 'front', 'someone', 'ask', 'speek', 'manager', 'call', 'smiling', 'demetri', 'lovin', 'person', 'demetri', 'asigned', 'maybe', 'hotel', 'check', 'hotel', 'demetri', 'around', 'maybe', 'bring', 'guest']\n",
      "['worst', 'hotel', 'experience', 'agree', 'hotel', 'great', 'location', 'convenient', 'superdome', 'business', 'district', 'french', 'quarter', 'streetcar', 'truly', 'worst', 'hotel', 'experience', 'dirty', 'staff', 'inept', 'electronic', 'never', 'work', 'manager', 'every', 'return', 'evening', 'minutes', 'try', 'unsuccessfully', 'front', 'person', 'want', 'another', 'night', 'could', 'manager', 'pillow', 'water', 'toilet', 'paper', 'never', 'recommend', 'hotel', 'anyone']\n",
      "['housekeeper', 'excellent', 'problem', 'front', 'tride', 'charge', 'parking', 'despite', 'bring', 'friend', 'pick', 'everyday', 'would', 'morning', 'notice', 'charge', 'imagine', 'surprise', 'ask', 'woman', 'parking', 'proceed', 'argue', 'call', 'friend', 'begin', 'questioning', 'friend', 'shock', 'end', 'calling', 'manager', 'argue', 'finally', 'minutes', 'arguing', 'remove', 'charge', 'hesitantly', 'refuse', 'guest', 'never', 'though', 'accused', 'lying', 'rooms', 'spacious', 'suprisingly', 'quiet']\n",
      "['charter', 'tennessee', 'great', 'experience', 'comfort', 'cleanliness', 'friendliness', 'location', 'hampton', 'north', 'super', 'fluffy', 'comfortable', 'clean', 'roomy', 'consider', 'staff', 'friendly', 'helpful', 'everyone', 'smile', 'continental', 'breakfast', 'great', 'variety', 'biscuit', 'gravy', 'location', 'probably', 'hotel', 'assets', 'bring', 'walking', 'shoes', 'within', 'block', 'almost', 'everything', 'times', 'square', 'broadway', 'play', 'david', 'letterman', 'central', 'subway', 'afraid', 'anywhere', 'great', 'pizza', 'directly', 'across', 'street!hopefully', 'chance', 'another', 'hotel!a', 'advice', 'first', 'visitor', 'around', 'subway', 'never', 'vehicle', 'license', 'people', 'driving', 'yukon', 'tahoes', 'escalade', 'passing', 'luxurious', 'approach', 'meter', 'identification', 'display', 'vehicle', 'least', 'twice', 'yellow', 'mention', 'could', 'happen', 'across', 'wrong', 'person', 'offering']\n",
      "['convenient', 'clean', 'comfortable', 'midtown', 'hotel', 'double', 'queen', 'rooms', 'party', 'adult', '6-nights', 'nicely', 'furnish', 'stock', 'luxurious', 'business', 'district', 'outskirts', 'theatre', 'district', 'hotel', 'former', 'recently', 'refurbish', 'clean', 'fresh', 'elevator', 'occasionally', 'service', 'stairs', 'fortunately', 'convenient', 'location', 'walking', 'distance', 'great', 'shape', 'columbus', 'circle', 'central', 'rockefeller', 'center', 'times', 'square', 'radio', 'carnegie', 'greyline', 'tours', 'theatre', 'district', 'subway', 'stations', 'orange', 'line', 'restaurant', 'hotel', 'numerous', 'nearby', 'include', '24-hr', 'diner', 'across', 'street', 'prove', 'convenient', 'midnight', 'arrival', 'include', 'breakfast', 'larger', 'selection', 'often', 'crowd', 'complimentary', 'beverage', 'night', 'front', 'staff', 'friendly', 'efficient', 'graciously', 'accomodated', 'request', 'check', 'overall', 'great', 'value', 'night', 'SCREEN_NAME', 'christmas', 'would', 'definately', 'recommend', 'would']\n",
      "['mother', 'first', 'love', 'hotel', 'breakfast', 'great', 'location', 'everything', '--super', 'clean', 'rooms', 'recommend', 'everyone', 'looking', 'central', 'location', 'price']\n",
      "['value', 'money', 'father', 'brother', 'stay', 'triple', 'belvedere', '24/02/08', '29/02/08', 'brother', 'father', 'first', 'work', 'manhatten', 'stay', 'number', 'hotel', 'first', 'thing', 'traveller', 'realise', 'hotel', 'usually', 'smaller', 'rooms', 'city', 'offer', 'value', 'guess', 'supply', 'demand', 'thing!i', 'base', 'booking', 'review', 'others', 'disappoint', 'book', 'special', 'package', 'hotel', 'website', 'undercut', 'provider', 'considerably', 'buffet', 'breakfast', 'three', 'additional', '80usd', 'hotel', 'centrally', 'locate', 'value', 'money', 'request', 'refurbish', 'early', 'check', 'game', 'check', 'previous', 'reviewer', 'note', 'inform', 'rooms', 'refurbish', 'new', 'refurbish', 'rooms', 'extra', 'night', 'flight', 'ireland', 'land', '11.30', 'hotel', 'promptly', 'show', 'floor', 'double', 'suitable', 'enough', 'accomadate', 'clean', 'although', 'bathroom', 'fitting', 'little', 'outdated', 'regualar', 'visitor', 'hotel', 'certainly', 'tick', 'box', 'location', 'cleanliness', 'staff', 'price', 'would', 'recommend', 'hotel', 'highly', 'enjoy']\n",
      "['hotel', 'definitely', 'quirk', 'hotel', 'price', 'reasonably', 'price', 'hotel', 'could', 'manhattan', 'definitely', 'quirk', 'check', 'bed', 'rooms', 'couple', 'traveling', 'settle', 'doubles', 'floor', 'hallway', 'smell', 'horrible', 'luckily', 'notice', 'smell', 'swipe', 'would', 'front', 'reset', 'instead', 'apologize', 'work', 'second', 'ask', 'move', 'move', 'floor', 'floor', 'enough', 'layout', 'hallway', 'entering', 'bathroom', 'toilet', 'literally', 'inch', 'great', 'advice', 'someone', 'using', 'service', 'elevator', 'fast', 'notice', 'elevator', 'stop', 'floor', 'look', 'floor', 'recently', 'remodel', 'door', 'update', 'carpet', 'hear', 'might', 'strike', 'ask', 'concierge', 'airport', 'nervous', 'making', 'flight', 'guess', 'hotel', 'fault', 'evening', 'bellman', 'recommend', 'nearby', 'restaurant', 'tremonti', 'pizza', 'overall', 'hotel', 'experience', 'really', 'great', 'either', 'favorite', 'things', 'observation', 'rockefellar', 'center', 'buy', 'ticket', 'sunset', 'incredible', 'nice', 'empire', 'state', 'thing', 'sitting', 'outdoor', 'boathouse', 'central', 'gorgeous', 'blast']\n",
      "['unclean', 'stay', 'belvedere', 'alternative', 'incredibly', 'price', 'sheraton', 'several', 'block', 'stay', 'previously', 'firstly', 'belvedere', 'cheap', 'location', 'something', '300-per', 'night', 'sheraton', 'charge', 'probably', 'charge', 'price', 'beyond', 'silly', 'belvedere', 'lack', 'several', 'aspect', 'breakfast', 'include', 'nightly', 'charge', 'wireless', 'internte', 'access', 'expensive', 'bandwidth', 'floor', 'anyway', 'elevator', 'quite', 'cram', 'hotel', 'storey', 'need', 'rethink', 'transportation', 'issue', 'importantly', 'however', 'cleanliness', 'issue', 'bathroom', 'nominally', 'clean', 'found', 'strand', 'beneth', 'cover', 'first', 'night', 'hope', 'belong', 'previous', 'guest', 'allow', 'matter', 'however', 'second', 'night', 'second', 'flies', 'happily', 'roam', 'upwards', 'might', 'issue', 'price', 'stay', 'times', 'square', 'neither', 'comfort', 'satisfy']\n",
      "['ditto', 'review', '.....', 'reviewer', 'report', '.......', 'great', 'location', 'spotlessly', 'clean', 'rooms', 'handy', 'fridge', 'coffee', 'maker', '.....', 'bathroom', 'stock', 'people', 'issue', 'room???)', '.....', 'value', 'money', 'observation', 'reception', 'staff', 'friendly', 'found', 'everywhere', 'question', 'would']\n",
      "['wonderful', 'boutique', 'hotel', 'belvedere', 'wonderful', 'review', 'absolutely', 'correct', 'love', 'location', 'staff', 'definitely', 'stay']\n",
      "['hotel', 'locate', 'stay', 'hotel', 'night', 'early', 'sept.', 'traveling', 'friend', 'wedding', 'search', 'hotel', 'review', 'could', 'night', 'lucky', 'enough', 'hotel', 'hotel', 'times', 'usually', 'friend', 'please', 'hotel', 'locate', 'subway', 'catch', 'uptown', 'downtown', 'restaurant', 'nearby', 'concierge', 'extremely', 'helpful', 'recommend', 'reasonable', 'restaurant', 'nearby', 'giving', 'need', 'somewhat', 'small', 'certainly', 'roomy', 'enough', 'probably', 'larger', 'european', 'hotel', 'bathroom', 'enough', 'microwave', 'street', 'noise', 'really', 'problem', 'could', 'worse', 'highly', 'recommend', 'location', 'knowledgeable', 'staff', 'cleaniness', 'rooms']\n"
     ]
    },
    {
     "name": "stdout",
     "output_type": "stream",
     "text": [
      "['wonderful', 'hotel', 'freeze', 'chocolate', 'serendipity']\n",
      "['great', 'stay', 'belvedere', 'book', 'hotel', 'base', 'review', 'everyone', 'value', 'incomparable', 'double', 'chest', 'armoire', 'still', 'plenty', 'around', 'bathroom', 'super', 'clean', 'kitchenette', 'handy', 'arrive', 'hours', 'check', 'right', 'others', 'arrive', 'rooms', 'ready', 'problem', 'check', 'love', 'location', 'short', 'major', 'subway', 'line', 'walking', 'distance', 'theater', 'bustle', 'times', 'square', 'convenient', 'restaurant', 'though', 'stick', 'mainly', 'restaurant', 'along', 'avenue', 'quite', 'pricey', 'along', 'corner', 'stock', 'gourmet', 'goody', 'amish', 'market', 'short', 'avenue', 'emporium', 'close', 'elevator', 'problem', 'depend', 'minor', 'thing', 'compare', 'price', 'definitely']\n",
      "['hotel', 'great', 'location', 'stay', 'hotel', 'group', 'employee', 'deal', 'could', 'nice', 'large', 'clean', 'level', 'lounge', 'upgrade', 'platinum', 'add', 'overall', 'positive', 'experience', 'hotel', 'hotel', 'three', 'night', 'elevator', 'stop', 'every', 'floor', 'overall', 'would', 'hotel', 'dallas']\n",
      "['excllent', 'smaller', 'hotel', 'stay', 'hotel', 'giraffe', 'night', 'thoroughly', 'enjoy', 'experience', 'staff', 'polite', 'helpful', 'clean', 'comfortable', 'breakfast', 'morning', 'wonderful', 'small', 'hole', 'sheet', 'first', 'night', 'thought', 'shoddy', 'complimentary', 'prosecco', 'appear', 'anniversary']\n",
      "['love', 'giraffe', 'husband', 'stay', 'hotel', 'giraffe', 'visit', 'found', 'nice', 'place', \"we've\", 'visiting', 'years', 'hotel', 'giraffe', 'terrific']\n",
      "['techno', 'pains', 'write', 'review', 'mix', 'review', 'sister', 'book', 'hotel', 'base', 'review', 'excite', 'little', 'pampering', 'maybe', 'mention', 'first', 'weekend', 'without', 'years', 'excite', 'hotel', 'amaze', 'equip', 'every', 'detail', 'address', 'bathroom', 'gorgeous', 'perfect', 'relax', 'want', 'addition', 'hotel', 'great', 'lobby', 'offer', 'breakfast', 'snack', 'impress', 'positive', 'things', 'break', 'hotel', 'little', 'secret', 'first', 'night', 'arrive', 'dinner', 'watch', 'movie', 'crash', 'walk', 'pulsing', 'techno', 'quite', 'unbearable', 'try', 'enjoy', 'neither', 'could', 'comfortable', 'point', 'call', 'stairs', 'SCREEN_NAME', 'complain', 'front', 'clerk', 'listen', 'techno', 'could', 'figure', 'coming', 'from????', 'rehearse', 'bullet', 'sleep', 'check', 'restaurant', 'source', 'problem', 'young', 'scoop', 'excite', 'voice', 'become', 'energy', 'lounge', 'bingo', 'smile', 'head', 'right', 'front', 'ask', 'front', 'clerk', 'people', 'complain', 'noise', 'smile', 'ask', 'move', 'another', 'perhaps', 'could', 'sleep', 'complain', 'suite', 'available', 'would', 'charge', 'upgrade', 'great', 'customer', 'service', 'especially', 'hotel', 'obviously', 'issue', 'complaint', 'mistake', 'throw', 'lobby', 'stick', 'energy', 'lounge', 'another', 'night', 'check', 'ask', 'speak', 'manager', 'whole', 'apparently', 'manager', 'longer', 'decision', 'hotel', 'would', 'speak', 'general', 'manager', 'weekday', 'number', 'appal', 'hotel', 'caliber', 'would', 'customer', 'service', 'especially', 'issue', 'obviously', 'arise', 'times', 'disappoint', 'often', 'bummer!i', 'check', 'sister', 'issue', 'resolve', 'reimburse', 'sleep', 'regardless', '400.00', 'night', 'establishment', 'whole', 'thing', 'ridiculous']\n",
      "['third', 'giraffe', 'stay', 'early', 'august', 'night', 'third', 'giraffe', 'still', 'hotel', 'level', 'service', 'slightly', 'previous', 'times', 'seem', 'cutting', 'taking', 'place', 'concern', 'lower', 'standard', 'lobby', 'complimentary', 'drink', '/breakfast', '.......', 'could', 'never', 'really', 'coffee', 'clean', 'clean', 'towel', 'lift', 'action', 'entire', 'surprise', 'maybe', 'first', 'choice', 'would', 'probably', 'hotel', 'giraffe', 'compare', 'price', 'hotel', 'location', 'though']\n"
     ]
    }
   ],
   "source": [
    "text_data = []\n",
    "for rI in range(len(reviews_col)):\n",
    "    line = reviews_col[rI]\n",
    "    tokens = prepare_text_for_lda(line)\n",
    "    if random.random() > .99:\n",
    "        print(tokens)\n",
    "    text_data.append(tokens)"
   ]
  },
  {
   "cell_type": "code",
   "execution_count": 25,
   "metadata": {
    "collapsed": true
   },
   "outputs": [],
   "source": [
    "from gensim import corpora"
   ]
  },
  {
   "cell_type": "code",
   "execution_count": 27,
   "metadata": {},
   "outputs": [],
   "source": [
    "dictionary = corpora.Dictionary(text_data)\n",
    "corpus = [dictionary.doc2bow(text) for text in text_data]"
   ]
  },
  {
   "cell_type": "code",
   "execution_count": 28,
   "metadata": {
    "collapsed": true
   },
   "outputs": [],
   "source": [
    "import pickle"
   ]
  },
  {
   "cell_type": "code",
   "execution_count": 29,
   "metadata": {
    "collapsed": true
   },
   "outputs": [],
   "source": [
    "pickle.dump(corpus, open('corpus.pkl', 'wb'))"
   ]
  },
  {
   "cell_type": "code",
   "execution_count": 30,
   "metadata": {
    "collapsed": true
   },
   "outputs": [],
   "source": [
    "dictionary.save('dictionary.gensim')"
   ]
  },
  {
   "cell_type": "code",
   "execution_count": 36,
   "metadata": {
    "collapsed": true
   },
   "outputs": [],
   "source": [
    "import gensim\n",
    "NUM_TOPICS = 4\n",
    "ldamodel = gensim.models.ldamodel.LdaModel(corpus, num_topics = NUM_TOPICS, id2word=dictionary, passes=20)\n",
    "ldamodel.save('model_4Topics.gensim')"
   ]
  },
  {
   "cell_type": "code",
   "execution_count": 38,
   "metadata": {},
   "outputs": [
    {
     "name": "stdout",
     "output_type": "stream",
     "text": [
      "(0, '0.037*\"hotel\" + 0.015*\"would\" + 0.014*\"night\" + 0.014*\"check\" + 0.010*\"could\" + 0.009*\"front\" + 0.008*\"rooms\" + 0.008*\"stay\" + 0.008*\"service\" + 0.008*\"staff\" + 0.007*\"floor\" + 0.006*\"arrive\" + 0.006*\"first\" + 0.006*\"never\" + 0.006*\"problem\" + 0.006*\"call\" + 0.005*\"ask\" + 0.005*\"book\" + 0.005*\"another\" + 0.005*\"morning\" + 0.005*\"charge\" + 0.005*\"people\" + 0.004*\"reservation\" + 0.004*\"guest\" + 0.004*\"place\" + 0.004*\"manager\" + 0.004*\"experience\" + 0.004*\"elevator\" + 0.004*\"however\" + 0.004*\"clean\"')\n",
      "(1, '0.049*\"hotel\" + 0.030*\"great\" + 0.021*\"location\" + 0.015*\"staff\" + 0.013*\"stay\" + 0.012*\"clean\" + 0.011*\"would\" + 0.011*\"night\" + 0.011*\"breakfast\" + 0.011*\"rooms\" + 0.008*\"friendly\" + 0.008*\"place\" + 0.008*\"restaurant\" + 0.008*\"helpful\" + 0.008*\"square\" + 0.007*\"price\" + 0.007*\"comfortable\" + 0.007*\"street\" + 0.007*\"small\" + 0.006*\"block\" + 0.006*\"recommend\" + 0.006*\"excellent\" + 0.005*\"really\" + 0.005*\"times\" + 0.005*\"bathroom\" + 0.005*\"belvedere\" + 0.005*\"floor\" + 0.005*\"little\" + 0.005*\"service\" + 0.005*\"close\"')\n",
      "(2, '0.022*\"hotel\" + 0.009*\"rooms\" + 0.008*\"suite\" + 0.008*\"boston\" + 0.008*\"bathroom\" + 0.007*\"beach\" + 0.007*\"service\" + 0.007*\"lobby\" + 0.006*\"stay\" + 0.006*\"restaurant\" + 0.006*\"place\" + 0.006*\"night\" + 0.006*\"business\" + 0.005*\"resort\" + 0.005*\"would\" + 0.005*\"small\" + 0.005*\"center\" + 0.005*\"sheraton\" + 0.005*\"internet\" + 0.004*\"floor\" + 0.004*\"great\" + 0.004*\"water\" + 0.004*\"airport\" + 0.004*\"large\" + 0.004*\"miami\" + 0.004*\"family\" + 0.004*\"property\" + 0.004*\"little\" + 0.004*\"clean\" + 0.004*\"conference\"')\n",
      "(3, '0.032*\"orleans\" + 0.020*\"bourbon\" + 0.019*\"quarter\" + 0.011*\"maison\" + 0.010*\"dupuy\" + 0.007*\"french\" + 0.007*\"wedding\" + 0.005*\"wyndham\" + 0.004*\"katrina\" + 0.004*\"pelham\" + 0.003*\"warwick\" + 0.003*\"regis\" + 0.002*\"author\" + 0.002*\"content\" + 0.002*\"photo\" + 0.002*\"h么tel\" + 0.002*\"milner\" + 0.002*\"jackson\" + 0.002*\"mardi\" + 0.002*\"service>-1\" + 0.002*\"charm\" + 0.001*\"dominique\" + 0.001*\"casino\" + 0.001*\"louis\" + 0.001*\"johnson\" + 0.001*\"service>5\" + 0.001*\"cleanliness>5\" + 0.001*\"monde\" + 0.001*\"situ茅\" + 0.001*\"location>5\"')\n"
     ]
    }
   ],
   "source": [
    "topics = ldamodel.print_topics(num_words=30)\n",
    "for topic in topics:\n",
    "    print(topic)"
   ]
  },
  {
   "cell_type": "code",
   "execution_count": null,
   "metadata": {
    "collapsed": true
   },
   "outputs": [],
   "source": []
  }
 ],
 "metadata": {
  "kernelspec": {
   "display_name": "Python 3",
   "language": "python",
   "name": "python3"
  },
  "language_info": {
   "codemirror_mode": {
    "name": "ipython",
    "version": 3
   },
   "file_extension": ".py",
   "mimetype": "text/x-python",
   "name": "python",
   "nbconvert_exporter": "python",
   "pygments_lexer": "ipython3",
   "version": "3.6.1"
  }
 },
 "nbformat": 4,
 "nbformat_minor": 2
}
